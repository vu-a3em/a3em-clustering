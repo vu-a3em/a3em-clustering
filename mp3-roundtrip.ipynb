{
 "cells": [
  {
   "cell_type": "code",
   "execution_count": 174,
   "id": "93ca8fb5-5313-4d4b-b299-adb871653411",
   "metadata": {},
   "outputs": [],
   "source": [
    "import soundfile\n",
    "import pydub\n",
    "import librosa\n",
    "import numpy as np\n",
    "import io\n",
    "import os\n",
    "import uuid\n",
    "from pydub.playback import play"
   ]
  },
  {
   "cell_type": "code",
   "execution_count": 175,
   "id": "d69158cc-b702-4aa5-87b6-1ef6168107d2",
   "metadata": {},
   "outputs": [],
   "source": [
    "src = 'filter-test-dataset/Backyard-2024-Feb-12-16/0101/050711.wav'\n",
    "a = soundfile.read(src)\n",
    "b = librosa.load(src, sr = None)\n",
    "assert len(a) == 2 and len(a) == len(b)\n",
    "assert (a[0] == b[0]).all()\n",
    "assert a[1] == b[1]"
   ]
  },
  {
   "cell_type": "code",
   "execution_count": 176,
   "id": "685237dc-e332-459e-b954-2af9aff5c3d3",
   "metadata": {},
   "outputs": [
    {
     "name": "stdout",
     "output_type": "stream",
     "text": [
      "[ 0.00158691  0.00640869  0.00585938 ... -0.00079346 -0.00061035\n",
      " -0.00048828]\n",
      "[ 0.00255525  0.00497464  0.00557264 ... -0.00070736 -0.00051302\n",
      " -0.00024977]\n"
     ]
    }
   ],
   "source": [
    "def wav_to_mp3_to_wav(wav: np.ndarray, sr: int) -> np.ndarray:\n",
    "    f = 'wmw-cvt-{uuid.uuid4()}'\n",
    "    \n",
    "    try:\n",
    "        # doing the exact same thing in-memory gives garbled audio... whatever...\n",
    "        soundfile.write(f, wav, sr, format = 'WAV')\n",
    "        seg = pydub.AudioSegment.from_wav(f)\n",
    "        seg.export(f, format = 'mp3')\n",
    "        seg = pydub.AudioSegment.from_mp3(f)\n",
    "        seg.export(f, format = 'wav')\n",
    "        res = soundfile.read(f)\n",
    "        res = (librosa.resample(res[0], orig_sr = res[1], target_sr = sr), sr)\n",
    "        \n",
    "        assert res[0].dtype == wav.dtype, f'{wav.dtype} -> {res[0].dtype}'\n",
    "        assert res[0].shape == wav.shape, f'{wav.shape} -> {res[0].shape}'\n",
    "        assert res[1] == sr, f'{sr} -> {res[1]}'\n",
    "        return res[0]\n",
    "    finally:\n",
    "        os.remove(f)\n",
    "\n",
    "x = wav_to_mp3_to_wav(*a)\n",
    "print(a[0])\n",
    "print(x)"
   ]
  },
  {
   "cell_type": "code",
   "execution_count": 177,
   "id": "ea667309-e4b6-4940-b920-87dd6e5d83a9",
   "metadata": {},
   "outputs": [
    {
     "name": "stderr",
     "output_type": "stream",
     "text": [
      "ALSA lib pcm_dsnoop.c:641:(snd_pcm_dsnoop_open) unable to open slave\n",
      "ALSA lib pcm_dmix.c:1089:(snd_pcm_dmix_open) unable to open slave\n",
      "ALSA lib pcm.c:2642:(snd_pcm_open_noupdate) Unknown PCM cards.pcm.rear\n",
      "ALSA lib pcm.c:2642:(snd_pcm_open_noupdate) Unknown PCM cards.pcm.center_lfe\n",
      "ALSA lib pcm.c:2642:(snd_pcm_open_noupdate) Unknown PCM cards.pcm.side\n",
      "ALSA lib pcm_oss.c:377:(_snd_pcm_oss_open) Unknown field port\n",
      "ALSA lib pcm_oss.c:377:(_snd_pcm_oss_open) Unknown field port\n",
      "ALSA lib pcm_usb_stream.c:486:(_snd_pcm_usb_stream_open) Invalid type for card\n",
      "ALSA lib pcm_usb_stream.c:486:(_snd_pcm_usb_stream_open) Invalid type for card\n",
      "ALSA lib pcm_dmix.c:1089:(snd_pcm_dmix_open) unable to open slave\n"
     ]
    }
   ],
   "source": [
    "play(pydub.AudioSegment(a[0].astype('float32').tobytes(), frame_rate = a[1], sample_width = 4, channels = 1))"
   ]
  },
  {
   "cell_type": "code",
   "execution_count": 178,
   "id": "cec9dac1-e65d-492e-bcbf-f62473ab8884",
   "metadata": {},
   "outputs": [
    {
     "name": "stderr",
     "output_type": "stream",
     "text": [
      "ALSA lib pcm_dsnoop.c:641:(snd_pcm_dsnoop_open) unable to open slave\n",
      "ALSA lib pcm_dmix.c:1089:(snd_pcm_dmix_open) unable to open slave\n",
      "ALSA lib pcm.c:2642:(snd_pcm_open_noupdate) Unknown PCM cards.pcm.rear\n",
      "ALSA lib pcm.c:2642:(snd_pcm_open_noupdate) Unknown PCM cards.pcm.center_lfe\n",
      "ALSA lib pcm.c:2642:(snd_pcm_open_noupdate) Unknown PCM cards.pcm.side\n",
      "ALSA lib pcm_oss.c:377:(_snd_pcm_oss_open) Unknown field port\n",
      "ALSA lib pcm_oss.c:377:(_snd_pcm_oss_open) Unknown field port\n",
      "ALSA lib pcm_usb_stream.c:486:(_snd_pcm_usb_stream_open) Invalid type for card\n",
      "ALSA lib pcm_usb_stream.c:486:(_snd_pcm_usb_stream_open) Invalid type for card\n",
      "ALSA lib pcm_dmix.c:1089:(snd_pcm_dmix_open) unable to open slave\n"
     ]
    }
   ],
   "source": [
    "play(pydub.AudioSegment(x.astype('float32').tobytes(), frame_rate = a[1], sample_width = 4, channels = 1))"
   ]
  },
  {
   "cell_type": "code",
   "execution_count": null,
   "id": "b5e20504-0118-4ea3-bdd0-0c3f884f3935",
   "metadata": {},
   "outputs": [],
   "source": []
  }
 ],
 "metadata": {
  "kernelspec": {
   "display_name": "Python 3 (ipykernel)",
   "language": "python",
   "name": "python3"
  },
  "language_info": {
   "codemirror_mode": {
    "name": "ipython",
    "version": 3
   },
   "file_extension": ".py",
   "mimetype": "text/x-python",
   "name": "python",
   "nbconvert_exporter": "python",
   "pygments_lexer": "ipython3",
   "version": "3.8.10"
  }
 },
 "nbformat": 4,
 "nbformat_minor": 5
}
