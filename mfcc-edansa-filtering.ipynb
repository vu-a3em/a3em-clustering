{
 "cells": [
  {
   "cell_type": "code",
   "execution_count": 28,
   "id": "44711785-6ac3-4431-a00c-9f1f5c5ba27b",
   "metadata": {},
   "outputs": [],
   "source": [
    "import csv\n",
    "import random"
   ]
  },
  {
   "cell_type": "code",
   "execution_count": 37,
   "id": "3443002b-a64a-46a6-ae53-9499182191d1",
   "metadata": {},
   "outputs": [
    {
     "data": {
      "text/plain": [
       "3042"
      ]
     },
     "execution_count": 37,
     "metadata": {},
     "output_type": "execute_result"
    }
   ],
   "source": [
    "def try_int(x):\n",
    "    try:\n",
    "        return int(x)\n",
    "    except:\n",
    "        return x\n",
    "\n",
    "with open('labels.csv') as f:\n",
    "    r = csv.reader(f)\n",
    "    header = next(r)\n",
    "    data = []\n",
    "    for row in r:\n",
    "        assert len(row) == len(header)\n",
    "        data.append({ header[i]: try_int(row[i]) for i in range(len(header)) })\n",
    "\n",
    "is_event = lambda x: x['Sil'] == 0\n",
    "events = [x for x in data if is_event(x)]\n",
    "not_events = [x for x in data if not is_event(x)]\n",
    "\n",
    "n = min(len(events), len(not_events))\n",
    "events = random.sample(events, n)\n",
    "not_events = random.sample(not_events, n)\n",
    "assert len(events) == len(not_events)\n",
    "\n",
    "data = events + not_events\n",
    "len(data)"
   ]
  },
  {
   "cell_type": "code",
   "execution_count": null,
   "id": "d683b3d2-8e35-4700-9f7d-ebda2e03f3f3",
   "metadata": {},
   "outputs": [],
   "source": []
  }
 ],
 "metadata": {
  "kernelspec": {
   "display_name": "Python 3 (ipykernel)",
   "language": "python",
   "name": "python3"
  },
  "language_info": {
   "codemirror_mode": {
    "name": "ipython",
    "version": 3
   },
   "file_extension": ".py",
   "mimetype": "text/x-python",
   "name": "python",
   "nbconvert_exporter": "python",
   "pygments_lexer": "ipython3",
   "version": "3.8.10"
  }
 },
 "nbformat": 4,
 "nbformat_minor": 5
}
