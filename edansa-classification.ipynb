{
 "cells": [
  {
   "cell_type": "code",
   "execution_count": 14,
   "id": "20d6a42a-5103-4fc0-8bd3-433846b907c4",
   "metadata": {},
   "outputs": [],
   "source": [
    "import csv\n",
    "import re\n",
    "import dataloader\n",
    "import librosa"
   ]
  },
  {
   "cell_type": "code",
   "execution_count": 15,
   "id": "4e72ea35-7933-410d-a6e9-1fb1b6e1ee1f",
   "metadata": {},
   "outputs": [],
   "source": [
    "class EdansaDataloader:\n",
    "    def __init__(self, path: str):\n",
    "        def try_int(x):\n",
    "            try:\n",
    "                return int(x)\n",
    "            except:\n",
    "                return x\n",
    "\n",
    "        sort_key = lambda x: [try_int(y) for y in re.split(r'(\\d+)', x['Clip Path'])]\n",
    "\n",
    "        with open(f'{path}/labels.csv') as f:\n",
    "            r = csv.reader(f)\n",
    "            header = next(r)\n",
    "            data = []\n",
    "            for row in r:\n",
    "                assert len(row) == len(header)\n",
    "                data.append({ header[i]: try_int(row[i]) for i in range(len(header)) })\n",
    "\n",
    "        is_event = lambda x: x['Sil'] == 0\n",
    "        events = [{ 'is_event': True, **x } for x in data if is_event(x)]\n",
    "        not_events = [{ 'is_event': False, **x } for x in data if not is_event(x)]\n",
    "\n",
    "        events.sort(key = sort_key) # sort to order by deployment then chronologically\n",
    "        not_events.sort(key = sort_key) # sort to order by deployment then chronologically\n",
    "\n",
    "        n = min(len(events), len(not_events))\n",
    "        events = events[:n]\n",
    "        not_events = not_events[:n]\n",
    "        assert len(events) == len(not_events)\n",
    "\n",
    "        self.__path = path\n",
    "        self.__data = events + not_events\n",
    "\n",
    "        self.__data.sort(key = sort_key) # sort to order by deployment then chronologically\n",
    "\n",
    "    def __iter__(self):\n",
    "        target_samples = dataloader.SAMPLE_DURATION_SECS * dataloader.UNIFORM_SAMPLE_RATE\n",
    "        for entry in self.__data:\n",
    "            file = f'{self.__path}/data/{entry[\"Clip Path\"]}'\n",
    "            try:\n",
    "                orig_samples, orig_sr = librosa.load(file, sr = None)\n",
    "                new_samples = librosa.resample(orig_samples, orig_sr = orig_sr, target_sr = dataloader.UNIFORM_SAMPLE_RATE)\n",
    "            except Exception as e:\n",
    "                print(f'failed to read file \\'{file}\\':\\n{e}\\nskipping...\\n')\n",
    "                continue\n",
    "\n",
    "            clip_count = new_samples.shape[0] // target_samples\n",
    "            front_split = random.randrange(new_samples.shape[0] % target_samples) if new_samples.shape[0] % target_samples != 0 else 0\n",
    "            trimmed = new_samples[front_split : front_split + clip_count * target_samples]\n",
    "            assert trimmed.shape[0] // target_samples == clip_count and trimmed.shape[0] % target_samples == 0\n",
    "\n",
    "            yield trimmed, [trimmed[i * target_samples : (i + 1) * target_samples] for i in range(clip_count)], entry"
   ]
  },
  {
   "cell_type": "code",
   "execution_count": 17,
   "id": "465988cf-0af6-4607-a950-ec7531919aca",
   "metadata": {},
   "outputs": [
    {
     "name": "stdout",
     "output_type": "stream",
     "text": [
      "(80000,) (8000,) 10 {'is_event': True, 'batch': 4, 'set': 'test', 'region': 'anwr', 'Site ID': 31, 'Date': '05/04/2019', 'Start Time': '05:37:50.000000', 'End Time': '05:38:00.000000', 'Length': '00:00:10.000000', 'Clip Path': 'anwr/31/S4A10297_20190504_043000_67m_50s__68m_0s.wav', 'Anth': 1, 'Bio': 0, 'Geo': 0, 'Sil': 0, 'Auto': 0, 'Airc': 1, 'Mach': 0, 'Flare': 0, 'Bird': 0, 'Mam': 0, 'Bug': 0, 'Wind': 0, 'Rain': 0, 'Water': 0, 'Truck': 0, 'Car': 0, 'Prop': 0, 'Helo': 0, 'Jet': 0, 'Corv': 0, 'SongB': 0, 'DGS': 0, 'Grous': 0, 'Crane': 0, 'Loon': 0, 'SeaB': 0, 'Owl': 0, 'Hum': 0, 'Rapt': 0, 'Woop': 0, 'ShorB': 0, 'Woof': 0, 'Bear': 0, 'Mous': 0, 'Deer': 0, 'Weas': 0, 'Meow': 0, 'Hare': 0, 'Shrew': 0, 'Mosq': 0, 'Fly': 0}\n"
     ]
    }
   ],
   "source": [
    "dataset = EdansaDataloader('/home/devin/Downloads/EDANSA-2019')\n",
    "dataset = iter(dataset)\n",
    "trimmed, clips, entry = next(dataset)\n",
    "print(trimmed.shape, clips[0].shape, len(clips), entry)"
   ]
  },
  {
   "cell_type": "code",
   "execution_count": null,
   "id": "be6ffeab-8d22-4426-91d3-6b94bb19c169",
   "metadata": {},
   "outputs": [],
   "source": []
  }
 ],
 "metadata": {
  "kernelspec": {
   "display_name": "Python 3 (ipykernel)",
   "language": "python",
   "name": "python3"
  },
  "language_info": {
   "codemirror_mode": {
    "name": "ipython",
    "version": 3
   },
   "file_extension": ".py",
   "mimetype": "text/x-python",
   "name": "python",
   "nbconvert_exporter": "python",
   "pygments_lexer": "ipython3",
   "version": "3.8.10"
  }
 },
 "nbformat": 4,
 "nbformat_minor": 5
}
